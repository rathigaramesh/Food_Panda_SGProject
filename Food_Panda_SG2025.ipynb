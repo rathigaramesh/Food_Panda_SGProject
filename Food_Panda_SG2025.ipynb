{
 "cells": [
  {
   "cell_type": "markdown",
   "id": "8c2ecb5b",
   "metadata": {},
   "source": [
    "# <<Food Panda SG 2025>>"
   ]
  },
  {
   "cell_type": "code",
   "execution_count": 91,
   "id": "a0163124",
   "metadata": {},
   "outputs": [],
   "source": [
    "import pandas as pd\n",
    "import numpy as np\n",
    "import matplotlib.pyplot as plt\n",
    "import seaborn as sns\n",
    "import plotly.express as px\n",
    "import plotly.io as pio\n",
    "pio.renderers.default = \"svg\""
   ]
  },
  {
   "cell_type": "code",
   "execution_count": 92,
   "id": "80b19f62",
   "metadata": {},
   "outputs": [],
   "source": [
    "# pip install plotly"
   ]
  },
  {
   "cell_type": "markdown",
   "id": "7cc03b14",
   "metadata": {},
   "source": [
    "# Importing the dataset"
   ]
  },
  {
   "cell_type": "code",
   "execution_count": 93,
   "id": "cd83f677",
   "metadata": {},
   "outputs": [],
   "source": [
    "raw_df = pd.read_csv(\"SG_OnlineFoodPanda_2025.csv\", delimiter=',')"
   ]
  },
  {
   "cell_type": "code",
   "execution_count": 94,
   "id": "ec4046ae",
   "metadata": {},
   "outputs": [
    {
     "data": {
      "text/html": [
       "<div>\n",
       "<style scoped>\n",
       "    .dataframe tbody tr th:only-of-type {\n",
       "        vertical-align: middle;\n",
       "    }\n",
       "\n",
       "    .dataframe tbody tr th {\n",
       "        vertical-align: top;\n",
       "    }\n",
       "\n",
       "    .dataframe thead th {\n",
       "        text-align: right;\n",
       "    }\n",
       "</style>\n",
       "<table border=\"1\" class=\"dataframe\">\n",
       "  <thead>\n",
       "    <tr style=\"text-align: right;\">\n",
       "      <th></th>\n",
       "      <th>StoreId</th>\n",
       "      <th>CompleteStoreName</th>\n",
       "      <th>FoodType</th>\n",
       "      <th>AverageRating</th>\n",
       "      <th>Reviewers</th>\n",
       "      <th>City</th>\n",
       "      <th>Location</th>\n",
       "    </tr>\n",
       "  </thead>\n",
       "  <tbody>\n",
       "    <tr>\n",
       "      <th>0</th>\n",
       "      <td>a04x</td>\n",
       "      <td>Peng Cheng Northern Jiangsu Cuisine 彭城小厨 (Temp...</td>\n",
       "      <td>Chinese</td>\n",
       "      <td>4.9</td>\n",
       "      <td>169</td>\n",
       "      <td>singapore</td>\n",
       "      <td>45 Temple Street, Ground Floor,</td>\n",
       "    </tr>\n",
       "    <tr>\n",
       "      <th>1</th>\n",
       "      <td>a0bn</td>\n",
       "      <td>Shu Liu Xiang 蜀留香 (Woodlands MRT)</td>\n",
       "      <td>Chinese</td>\n",
       "      <td>5.0</td>\n",
       "      <td>285</td>\n",
       "      <td>singapore</td>\n",
       "      <td>30 Woodlands Ave 2, 01-10 Woodlands MRT Statio...</td>\n",
       "    </tr>\n",
       "    <tr>\n",
       "      <th>2</th>\n",
       "      <td>a0gk</td>\n",
       "      <td>NYP Chicken Rice (Nanyang Polytechnic)</td>\n",
       "      <td>Chicken</td>\n",
       "      <td>4.9</td>\n",
       "      <td>509</td>\n",
       "      <td>singapore</td>\n",
       "      <td>180 Ang Mo Kio Avenue 8, Nanyang Polytechnic B...</td>\n",
       "    </tr>\n",
       "    <tr>\n",
       "      <th>3</th>\n",
       "      <td>a0il</td>\n",
       "      <td>Sumo Bar Happy (Middle Road) [Pandago]</td>\n",
       "      <td>Japanese</td>\n",
       "      <td>5.0</td>\n",
       "      <td>11</td>\n",
       "      <td>singapore</td>\n",
       "      <td>111 Middle Road 01-05,</td>\n",
       "    </tr>\n",
       "    <tr>\n",
       "      <th>4</th>\n",
       "      <td>a0iu</td>\n",
       "      <td>King Dae Bak Korean (Compass One)</td>\n",
       "      <td>Korean</td>\n",
       "      <td>4.9</td>\n",
       "      <td>15</td>\n",
       "      <td>singapore</td>\n",
       "      <td>1 Sengkang Square, #04-11 Compass One, S 545078,</td>\n",
       "    </tr>\n",
       "  </tbody>\n",
       "</table>\n",
       "</div>"
      ],
      "text/plain": [
       "  StoreId                                  CompleteStoreName  FoodType  \\\n",
       "0    a04x  Peng Cheng Northern Jiangsu Cuisine 彭城小厨 (Temp...   Chinese   \n",
       "1    a0bn                  Shu Liu Xiang 蜀留香 (Woodlands MRT)   Chinese   \n",
       "2    a0gk             NYP Chicken Rice (Nanyang Polytechnic)   Chicken   \n",
       "3    a0il             Sumo Bar Happy (Middle Road) [Pandago]  Japanese   \n",
       "4    a0iu                  King Dae Bak Korean (Compass One)    Korean   \n",
       "\n",
       "   AverageRating  Reviewers       City  \\\n",
       "0            4.9        169  singapore   \n",
       "1            5.0        285  singapore   \n",
       "2            4.9        509  singapore   \n",
       "3            5.0         11  singapore   \n",
       "4            4.9         15  singapore   \n",
       "\n",
       "                                            Location  \n",
       "0                    45 Temple Street, Ground Floor,  \n",
       "1  30 Woodlands Ave 2, 01-10 Woodlands MRT Statio...  \n",
       "2  180 Ang Mo Kio Avenue 8, Nanyang Polytechnic B...  \n",
       "3                             111 Middle Road 01-05,  \n",
       "4   1 Sengkang Square, #04-11 Compass One, S 545078,  "
      ]
     },
     "execution_count": 94,
     "metadata": {},
     "output_type": "execute_result"
    }
   ],
   "source": [
    "raw_df.head()"
   ]
  },
  {
   "cell_type": "code",
   "execution_count": 95,
   "id": "5d37ef8d",
   "metadata": {},
   "outputs": [
    {
     "data": {
      "text/plain": [
       "(8313, 7)"
      ]
     },
     "execution_count": 95,
     "metadata": {},
     "output_type": "execute_result"
    }
   ],
   "source": [
    "raw_df.shape"
   ]
  },
  {
   "cell_type": "code",
   "execution_count": 96,
   "id": "1095b346",
   "metadata": {},
   "outputs": [
    {
     "name": "stdout",
     "output_type": "stream",
     "text": [
      "<class 'pandas.core.frame.DataFrame'>\n",
      "RangeIndex: 8313 entries, 0 to 8312\n",
      "Data columns (total 7 columns):\n",
      " #   Column             Non-Null Count  Dtype  \n",
      "---  ------             --------------  -----  \n",
      " 0   StoreId            8313 non-null   object \n",
      " 1   CompleteStoreName  8313 non-null   object \n",
      " 2   FoodType           7451 non-null   object \n",
      " 3   AverageRating      8313 non-null   float64\n",
      " 4   Reviewers          8313 non-null   int64  \n",
      " 5   City               8313 non-null   object \n",
      " 6   Location           8313 non-null   object \n",
      "dtypes: float64(1), int64(1), object(5)\n",
      "memory usage: 454.7+ KB\n"
     ]
    }
   ],
   "source": [
    "raw_df.info()"
   ]
  },
  {
   "cell_type": "code",
   "execution_count": 97,
   "id": "cd598a54",
   "metadata": {},
   "outputs": [
    {
     "data": {
      "text/html": [
       "<div>\n",
       "<style scoped>\n",
       "    .dataframe tbody tr th:only-of-type {\n",
       "        vertical-align: middle;\n",
       "    }\n",
       "\n",
       "    .dataframe tbody tr th {\n",
       "        vertical-align: top;\n",
       "    }\n",
       "\n",
       "    .dataframe thead th {\n",
       "        text-align: right;\n",
       "    }\n",
       "</style>\n",
       "<table border=\"1\" class=\"dataframe\">\n",
       "  <thead>\n",
       "    <tr style=\"text-align: right;\">\n",
       "      <th></th>\n",
       "      <th>AverageRating</th>\n",
       "      <th>Reviewers</th>\n",
       "    </tr>\n",
       "  </thead>\n",
       "  <tbody>\n",
       "    <tr>\n",
       "      <th>count</th>\n",
       "      <td>8313.000000</td>\n",
       "      <td>8313.000000</td>\n",
       "    </tr>\n",
       "    <tr>\n",
       "      <th>mean</th>\n",
       "      <td>3.770516</td>\n",
       "      <td>339.896788</td>\n",
       "    </tr>\n",
       "    <tr>\n",
       "      <th>std</th>\n",
       "      <td>1.985423</td>\n",
       "      <td>854.635027</td>\n",
       "    </tr>\n",
       "    <tr>\n",
       "      <th>min</th>\n",
       "      <td>0.000000</td>\n",
       "      <td>0.000000</td>\n",
       "    </tr>\n",
       "    <tr>\n",
       "      <th>25%</th>\n",
       "      <td>4.100000</td>\n",
       "      <td>7.000000</td>\n",
       "    </tr>\n",
       "    <tr>\n",
       "      <th>50%</th>\n",
       "      <td>4.900000</td>\n",
       "      <td>56.000000</td>\n",
       "    </tr>\n",
       "    <tr>\n",
       "      <th>75%</th>\n",
       "      <td>4.900000</td>\n",
       "      <td>288.000000</td>\n",
       "    </tr>\n",
       "    <tr>\n",
       "      <th>max</th>\n",
       "      <td>5.000000</td>\n",
       "      <td>14329.000000</td>\n",
       "    </tr>\n",
       "  </tbody>\n",
       "</table>\n",
       "</div>"
      ],
      "text/plain": [
       "       AverageRating     Reviewers\n",
       "count    8313.000000   8313.000000\n",
       "mean        3.770516    339.896788\n",
       "std         1.985423    854.635027\n",
       "min         0.000000      0.000000\n",
       "25%         4.100000      7.000000\n",
       "50%         4.900000     56.000000\n",
       "75%         4.900000    288.000000\n",
       "max         5.000000  14329.000000"
      ]
     },
     "execution_count": 97,
     "metadata": {},
     "output_type": "execute_result"
    }
   ],
   "source": [
    "raw_df.describe()"
   ]
  },
  {
   "cell_type": "markdown",
   "id": "354a656c",
   "metadata": {},
   "source": [
    "# Cleaning the Dataset"
   ]
  },
  {
   "cell_type": "code",
   "execution_count": 98,
   "id": "1c80a24f",
   "metadata": {},
   "outputs": [
    {
     "data": {
      "text/html": [
       "<div>\n",
       "<style scoped>\n",
       "    .dataframe tbody tr th:only-of-type {\n",
       "        vertical-align: middle;\n",
       "    }\n",
       "\n",
       "    .dataframe tbody tr th {\n",
       "        vertical-align: top;\n",
       "    }\n",
       "\n",
       "    .dataframe thead th {\n",
       "        text-align: right;\n",
       "    }\n",
       "</style>\n",
       "<table border=\"1\" class=\"dataframe\">\n",
       "  <thead>\n",
       "    <tr style=\"text-align: right;\">\n",
       "      <th></th>\n",
       "      <th>StoreId</th>\n",
       "      <th>CompleteStoreName</th>\n",
       "      <th>FoodType</th>\n",
       "      <th>AverageRating</th>\n",
       "      <th>Reviewers</th>\n",
       "      <th>City</th>\n",
       "      <th>Location</th>\n",
       "    </tr>\n",
       "  </thead>\n",
       "  <tbody>\n",
       "    <tr>\n",
       "      <th>0</th>\n",
       "      <td>a04x</td>\n",
       "      <td>Peng Cheng Northern Jiangsu Cuisine 彭城小厨 (Temp...</td>\n",
       "      <td>Chinese</td>\n",
       "      <td>4.9</td>\n",
       "      <td>169</td>\n",
       "      <td>singapore</td>\n",
       "      <td>45 Temple Street, Ground Floor,</td>\n",
       "    </tr>\n",
       "    <tr>\n",
       "      <th>1</th>\n",
       "      <td>a0bn</td>\n",
       "      <td>Shu Liu Xiang 蜀留香 (Woodlands MRT)</td>\n",
       "      <td>Chinese</td>\n",
       "      <td>5.0</td>\n",
       "      <td>285</td>\n",
       "      <td>singapore</td>\n",
       "      <td>30 Woodlands Ave 2, 01-10 Woodlands MRT Statio...</td>\n",
       "    </tr>\n",
       "    <tr>\n",
       "      <th>2</th>\n",
       "      <td>a0gk</td>\n",
       "      <td>NYP Chicken Rice (Nanyang Polytechnic)</td>\n",
       "      <td>Chicken</td>\n",
       "      <td>4.9</td>\n",
       "      <td>509</td>\n",
       "      <td>singapore</td>\n",
       "      <td>180 Ang Mo Kio Avenue 8, Nanyang Polytechnic B...</td>\n",
       "    </tr>\n",
       "    <tr>\n",
       "      <th>3</th>\n",
       "      <td>a0il</td>\n",
       "      <td>Sumo Bar Happy (Middle Road) [Pandago]</td>\n",
       "      <td>Japanese</td>\n",
       "      <td>5.0</td>\n",
       "      <td>11</td>\n",
       "      <td>singapore</td>\n",
       "      <td>111 Middle Road 01-05,</td>\n",
       "    </tr>\n",
       "    <tr>\n",
       "      <th>4</th>\n",
       "      <td>a0iu</td>\n",
       "      <td>King Dae Bak Korean (Compass One)</td>\n",
       "      <td>Korean</td>\n",
       "      <td>4.9</td>\n",
       "      <td>15</td>\n",
       "      <td>singapore</td>\n",
       "      <td>1 Sengkang Square, #04-11 Compass One, S 545078,</td>\n",
       "    </tr>\n",
       "  </tbody>\n",
       "</table>\n",
       "</div>"
      ],
      "text/plain": [
       "  StoreId                                  CompleteStoreName  FoodType  \\\n",
       "0    a04x  Peng Cheng Northern Jiangsu Cuisine 彭城小厨 (Temp...   Chinese   \n",
       "1    a0bn                  Shu Liu Xiang 蜀留香 (Woodlands MRT)   Chinese   \n",
       "2    a0gk             NYP Chicken Rice (Nanyang Polytechnic)   Chicken   \n",
       "3    a0il             Sumo Bar Happy (Middle Road) [Pandago]  Japanese   \n",
       "4    a0iu                  King Dae Bak Korean (Compass One)    Korean   \n",
       "\n",
       "   AverageRating  Reviewers       City  \\\n",
       "0            4.9        169  singapore   \n",
       "1            5.0        285  singapore   \n",
       "2            4.9        509  singapore   \n",
       "3            5.0         11  singapore   \n",
       "4            4.9         15  singapore   \n",
       "\n",
       "                                            Location  \n",
       "0                    45 Temple Street, Ground Floor,  \n",
       "1  30 Woodlands Ave 2, 01-10 Woodlands MRT Statio...  \n",
       "2  180 Ang Mo Kio Avenue 8, Nanyang Polytechnic B...  \n",
       "3                             111 Middle Road 01-05,  \n",
       "4   1 Sengkang Square, #04-11 Compass One, S 545078,  "
      ]
     },
     "execution_count": 98,
     "metadata": {},
     "output_type": "execute_result"
    }
   ],
   "source": [
    "raw_df.head()"
   ]
  },
  {
   "cell_type": "code",
   "execution_count": 99,
   "id": "28589954",
   "metadata": {},
   "outputs": [],
   "source": [
    "cols_to_drop = [col for col in ['StoreId', 'Location'] if col in raw_df.columns]\n",
    "raw_df.drop(columns=cols_to_drop, inplace=True)"
   ]
  },
  {
   "cell_type": "code",
   "execution_count": 100,
   "id": "56e94246",
   "metadata": {},
   "outputs": [
    {
     "name": "stdout",
     "output_type": "stream",
     "text": [
      "Index(['CompleteStoreName', 'FoodType', 'AverageRating', 'Reviewers', 'City'], dtype='object')\n"
     ]
    }
   ],
   "source": [
    "print(raw_df.columns)\n"
   ]
  },
  {
   "cell_type": "code",
   "execution_count": 101,
   "id": "07925e9e",
   "metadata": {},
   "outputs": [
    {
     "data": {
      "text/plain": [
       "CompleteStoreName      0\n",
       "FoodType             862\n",
       "AverageRating          0\n",
       "Reviewers              0\n",
       "City                   0\n",
       "dtype: int64"
      ]
     },
     "execution_count": 101,
     "metadata": {},
     "output_type": "execute_result"
    }
   ],
   "source": [
    "# Checking for Null records\n",
    "raw_df.isnull().sum()"
   ]
  },
  {
   "cell_type": "code",
   "execution_count": 102,
   "id": "046dfa0d",
   "metadata": {},
   "outputs": [
    {
     "data": {
      "text/html": [
       "<div>\n",
       "<style scoped>\n",
       "    .dataframe tbody tr th:only-of-type {\n",
       "        vertical-align: middle;\n",
       "    }\n",
       "\n",
       "    .dataframe tbody tr th {\n",
       "        vertical-align: top;\n",
       "    }\n",
       "\n",
       "    .dataframe thead th {\n",
       "        text-align: right;\n",
       "    }\n",
       "</style>\n",
       "<table border=\"1\" class=\"dataframe\">\n",
       "  <thead>\n",
       "    <tr style=\"text-align: right;\">\n",
       "      <th></th>\n",
       "      <th>CompleteStoreName</th>\n",
       "      <th>FoodType</th>\n",
       "      <th>AverageRating</th>\n",
       "      <th>Reviewers</th>\n",
       "      <th>City</th>\n",
       "    </tr>\n",
       "  </thead>\n",
       "  <tbody>\n",
       "    <tr>\n",
       "      <th>6</th>\n",
       "      <td>Zhong Ji Dang Gui HK Roasted Delight 忠记当归港式烧腊 ...</td>\n",
       "      <td>NaN</td>\n",
       "      <td>0.0</td>\n",
       "      <td>0</td>\n",
       "      <td>singapore</td>\n",
       "    </tr>\n",
       "    <tr>\n",
       "      <th>12</th>\n",
       "      <td>Bangla Bondhu (Mandarin Gardens) - Islandwide</td>\n",
       "      <td>NaN</td>\n",
       "      <td>0.0</td>\n",
       "      <td>0</td>\n",
       "      <td>singapore</td>\n",
       "    </tr>\n",
       "    <tr>\n",
       "      <th>51</th>\n",
       "      <td>Hong Lim Crispy Curry Puff (Punggol Settlement)</td>\n",
       "      <td>NaN</td>\n",
       "      <td>4.4</td>\n",
       "      <td>5</td>\n",
       "      <td>singapore</td>\n",
       "    </tr>\n",
       "    <tr>\n",
       "      <th>59</th>\n",
       "      <td>A.S.M - An Ice Cream Shop (Tampines)</td>\n",
       "      <td>NaN</td>\n",
       "      <td>0.0</td>\n",
       "      <td>0</td>\n",
       "      <td>singapore</td>\n",
       "    </tr>\n",
       "    <tr>\n",
       "      <th>105</th>\n",
       "      <td>Hakka Leipopo (Anchorvale Village)</td>\n",
       "      <td>NaN</td>\n",
       "      <td>4.9</td>\n",
       "      <td>54</td>\n",
       "      <td>singapore</td>\n",
       "    </tr>\n",
       "    <tr>\n",
       "      <th>...</th>\n",
       "      <td>...</td>\n",
       "      <td>...</td>\n",
       "      <td>...</td>\n",
       "      <td>...</td>\n",
       "      <td>...</td>\n",
       "    </tr>\n",
       "    <tr>\n",
       "      <th>8286</th>\n",
       "      <td>Lucky Souvlaki by Blu Kouzina (Hong Kong St)</td>\n",
       "      <td>NaN</td>\n",
       "      <td>0.0</td>\n",
       "      <td>0</td>\n",
       "      <td>singapore</td>\n",
       "    </tr>\n",
       "    <tr>\n",
       "      <th>8289</th>\n",
       "      <td>Nong Han Thai (Bukit Gombak Vista)</td>\n",
       "      <td>NaN</td>\n",
       "      <td>4.4</td>\n",
       "      <td>11</td>\n",
       "      <td>singapore</td>\n",
       "    </tr>\n",
       "    <tr>\n",
       "      <th>8295</th>\n",
       "      <td>Nanyang chefs (1 Anchorvale)</td>\n",
       "      <td>NaN</td>\n",
       "      <td>0.0</td>\n",
       "      <td>0</td>\n",
       "      <td>singapore</td>\n",
       "    </tr>\n",
       "    <tr>\n",
       "      <th>8297</th>\n",
       "      <td>Lucky Cat Seafood Bar (Cuppage Terrace)</td>\n",
       "      <td>NaN</td>\n",
       "      <td>0.0</td>\n",
       "      <td>0</td>\n",
       "      <td>singapore</td>\n",
       "    </tr>\n",
       "    <tr>\n",
       "      <th>8307</th>\n",
       "      <td>Original Botak Jones (Kampung Ampat)</td>\n",
       "      <td>NaN</td>\n",
       "      <td>5.0</td>\n",
       "      <td>93</td>\n",
       "      <td>singapore</td>\n",
       "    </tr>\n",
       "  </tbody>\n",
       "</table>\n",
       "<p>862 rows × 5 columns</p>\n",
       "</div>"
      ],
      "text/plain": [
       "                                      CompleteStoreName FoodType  \\\n",
       "6     Zhong Ji Dang Gui HK Roasted Delight 忠记当归港式烧腊 ...      NaN   \n",
       "12        Bangla Bondhu (Mandarin Gardens) - Islandwide      NaN   \n",
       "51      Hong Lim Crispy Curry Puff (Punggol Settlement)      NaN   \n",
       "59                 A.S.M - An Ice Cream Shop (Tampines)      NaN   \n",
       "105                  Hakka Leipopo (Anchorvale Village)      NaN   \n",
       "...                                                 ...      ...   \n",
       "8286       Lucky Souvlaki by Blu Kouzina (Hong Kong St)      NaN   \n",
       "8289                 Nong Han Thai (Bukit Gombak Vista)      NaN   \n",
       "8295                       Nanyang chefs (1 Anchorvale)      NaN   \n",
       "8297            Lucky Cat Seafood Bar (Cuppage Terrace)      NaN   \n",
       "8307               Original Botak Jones (Kampung Ampat)      NaN   \n",
       "\n",
       "      AverageRating  Reviewers       City  \n",
       "6               0.0          0  singapore  \n",
       "12              0.0          0  singapore  \n",
       "51              4.4          5  singapore  \n",
       "59              0.0          0  singapore  \n",
       "105             4.9         54  singapore  \n",
       "...             ...        ...        ...  \n",
       "8286            0.0          0  singapore  \n",
       "8289            4.4         11  singapore  \n",
       "8295            0.0          0  singapore  \n",
       "8297            0.0          0  singapore  \n",
       "8307            5.0         93  singapore  \n",
       "\n",
       "[862 rows x 5 columns]"
      ]
     },
     "execution_count": 102,
     "metadata": {},
     "output_type": "execute_result"
    }
   ],
   "source": [
    "# Checking for a null row\n",
    "raw_df[raw_df['FoodType'].isnull()]"
   ]
  },
  {
   "cell_type": "code",
   "execution_count": 103,
   "id": "c8689db3",
   "metadata": {},
   "outputs": [],
   "source": [
    "# Droping the above row from the dataset (Tryied one coulmn)\n",
    "raw_df = raw_df.drop(labels=6, axis=0)"
   ]
  },
  {
   "cell_type": "code",
   "execution_count": 104,
   "id": "07ed913d",
   "metadata": {},
   "outputs": [
    {
     "data": {
      "text/html": [
       "<div>\n",
       "<style scoped>\n",
       "    .dataframe tbody tr th:only-of-type {\n",
       "        vertical-align: middle;\n",
       "    }\n",
       "\n",
       "    .dataframe tbody tr th {\n",
       "        vertical-align: top;\n",
       "    }\n",
       "\n",
       "    .dataframe thead th {\n",
       "        text-align: right;\n",
       "    }\n",
       "</style>\n",
       "<table border=\"1\" class=\"dataframe\">\n",
       "  <thead>\n",
       "    <tr style=\"text-align: right;\">\n",
       "      <th></th>\n",
       "      <th>CompleteStoreName</th>\n",
       "      <th>FoodType</th>\n",
       "      <th>AverageRating</th>\n",
       "      <th>Reviewers</th>\n",
       "      <th>City</th>\n",
       "    </tr>\n",
       "  </thead>\n",
       "  <tbody>\n",
       "    <tr>\n",
       "      <th>12</th>\n",
       "      <td>Bangla Bondhu (Mandarin Gardens) - Islandwide</td>\n",
       "      <td>NaN</td>\n",
       "      <td>0.0</td>\n",
       "      <td>0</td>\n",
       "      <td>singapore</td>\n",
       "    </tr>\n",
       "    <tr>\n",
       "      <th>51</th>\n",
       "      <td>Hong Lim Crispy Curry Puff (Punggol Settlement)</td>\n",
       "      <td>NaN</td>\n",
       "      <td>4.4</td>\n",
       "      <td>5</td>\n",
       "      <td>singapore</td>\n",
       "    </tr>\n",
       "    <tr>\n",
       "      <th>59</th>\n",
       "      <td>A.S.M - An Ice Cream Shop (Tampines)</td>\n",
       "      <td>NaN</td>\n",
       "      <td>0.0</td>\n",
       "      <td>0</td>\n",
       "      <td>singapore</td>\n",
       "    </tr>\n",
       "    <tr>\n",
       "      <th>105</th>\n",
       "      <td>Hakka Leipopo (Anchorvale Village)</td>\n",
       "      <td>NaN</td>\n",
       "      <td>4.9</td>\n",
       "      <td>54</td>\n",
       "      <td>singapore</td>\n",
       "    </tr>\n",
       "    <tr>\n",
       "      <th>118</th>\n",
       "      <td>Wang Fu Dim Sum 王府上海点心 (Fusionopolis Galaxis)</td>\n",
       "      <td>NaN</td>\n",
       "      <td>4.9</td>\n",
       "      <td>308</td>\n",
       "      <td>singapore</td>\n",
       "    </tr>\n",
       "    <tr>\n",
       "      <th>...</th>\n",
       "      <td>...</td>\n",
       "      <td>...</td>\n",
       "      <td>...</td>\n",
       "      <td>...</td>\n",
       "      <td>...</td>\n",
       "    </tr>\n",
       "    <tr>\n",
       "      <th>8286</th>\n",
       "      <td>Lucky Souvlaki by Blu Kouzina (Hong Kong St)</td>\n",
       "      <td>NaN</td>\n",
       "      <td>0.0</td>\n",
       "      <td>0</td>\n",
       "      <td>singapore</td>\n",
       "    </tr>\n",
       "    <tr>\n",
       "      <th>8289</th>\n",
       "      <td>Nong Han Thai (Bukit Gombak Vista)</td>\n",
       "      <td>NaN</td>\n",
       "      <td>4.4</td>\n",
       "      <td>11</td>\n",
       "      <td>singapore</td>\n",
       "    </tr>\n",
       "    <tr>\n",
       "      <th>8295</th>\n",
       "      <td>Nanyang chefs (1 Anchorvale)</td>\n",
       "      <td>NaN</td>\n",
       "      <td>0.0</td>\n",
       "      <td>0</td>\n",
       "      <td>singapore</td>\n",
       "    </tr>\n",
       "    <tr>\n",
       "      <th>8297</th>\n",
       "      <td>Lucky Cat Seafood Bar (Cuppage Terrace)</td>\n",
       "      <td>NaN</td>\n",
       "      <td>0.0</td>\n",
       "      <td>0</td>\n",
       "      <td>singapore</td>\n",
       "    </tr>\n",
       "    <tr>\n",
       "      <th>8307</th>\n",
       "      <td>Original Botak Jones (Kampung Ampat)</td>\n",
       "      <td>NaN</td>\n",
       "      <td>5.0</td>\n",
       "      <td>93</td>\n",
       "      <td>singapore</td>\n",
       "    </tr>\n",
       "  </tbody>\n",
       "</table>\n",
       "<p>861 rows × 5 columns</p>\n",
       "</div>"
      ],
      "text/plain": [
       "                                    CompleteStoreName FoodType  AverageRating  \\\n",
       "12      Bangla Bondhu (Mandarin Gardens) - Islandwide      NaN            0.0   \n",
       "51    Hong Lim Crispy Curry Puff (Punggol Settlement)      NaN            4.4   \n",
       "59               A.S.M - An Ice Cream Shop (Tampines)      NaN            0.0   \n",
       "105                Hakka Leipopo (Anchorvale Village)      NaN            4.9   \n",
       "118     Wang Fu Dim Sum 王府上海点心 (Fusionopolis Galaxis)      NaN            4.9   \n",
       "...                                               ...      ...            ...   \n",
       "8286     Lucky Souvlaki by Blu Kouzina (Hong Kong St)      NaN            0.0   \n",
       "8289               Nong Han Thai (Bukit Gombak Vista)      NaN            4.4   \n",
       "8295                     Nanyang chefs (1 Anchorvale)      NaN            0.0   \n",
       "8297          Lucky Cat Seafood Bar (Cuppage Terrace)      NaN            0.0   \n",
       "8307             Original Botak Jones (Kampung Ampat)      NaN            5.0   \n",
       "\n",
       "      Reviewers       City  \n",
       "12            0  singapore  \n",
       "51            5  singapore  \n",
       "59            0  singapore  \n",
       "105          54  singapore  \n",
       "118         308  singapore  \n",
       "...         ...        ...  \n",
       "8286          0  singapore  \n",
       "8289         11  singapore  \n",
       "8295          0  singapore  \n",
       "8297          0  singapore  \n",
       "8307         93  singapore  \n",
       "\n",
       "[861 rows x 5 columns]"
      ]
     },
     "execution_count": 104,
     "metadata": {},
     "output_type": "execute_result"
    }
   ],
   "source": [
    "# Checking for a null row\n",
    "raw_df[raw_df['FoodType'].isnull()]"
   ]
  },
  {
   "cell_type": "code",
   "execution_count": 105,
   "id": "a1f7a628",
   "metadata": {},
   "outputs": [],
   "source": [
    "# To drop all rows where FoodType is null: (becoz so many null values under Food Type)\n",
    "raw_df = raw_df.dropna(subset=['FoodType'])\n"
   ]
  },
  {
   "cell_type": "code",
   "execution_count": 106,
   "id": "3e57d572",
   "metadata": {},
   "outputs": [
    {
     "data": {
      "text/html": [
       "<div>\n",
       "<style scoped>\n",
       "    .dataframe tbody tr th:only-of-type {\n",
       "        vertical-align: middle;\n",
       "    }\n",
       "\n",
       "    .dataframe tbody tr th {\n",
       "        vertical-align: top;\n",
       "    }\n",
       "\n",
       "    .dataframe thead th {\n",
       "        text-align: right;\n",
       "    }\n",
       "</style>\n",
       "<table border=\"1\" class=\"dataframe\">\n",
       "  <thead>\n",
       "    <tr style=\"text-align: right;\">\n",
       "      <th></th>\n",
       "      <th>CompleteStoreName</th>\n",
       "      <th>FoodType</th>\n",
       "      <th>AverageRating</th>\n",
       "      <th>Reviewers</th>\n",
       "      <th>City</th>\n",
       "    </tr>\n",
       "  </thead>\n",
       "  <tbody>\n",
       "  </tbody>\n",
       "</table>\n",
       "</div>"
      ],
      "text/plain": [
       "Empty DataFrame\n",
       "Columns: [CompleteStoreName, FoodType, AverageRating, Reviewers, City]\n",
       "Index: []"
      ]
     },
     "execution_count": 106,
     "metadata": {},
     "output_type": "execute_result"
    }
   ],
   "source": [
    "# Checking for a null row\n",
    "raw_df[raw_df['FoodType'].isnull()]"
   ]
  },
  {
   "cell_type": "code",
   "execution_count": 107,
   "id": "561a329b",
   "metadata": {},
   "outputs": [
    {
     "name": "stdout",
     "output_type": "stream",
     "text": [
      "0        Chinese\n",
      "1        Chinese\n",
      "2        Chicken\n",
      "3       Japanese\n",
      "4         Korean\n",
      "          ...   \n",
      "8308     Noodles\n",
      "8309     Dessert\n",
      "8310     Chinese\n",
      "8311       Asian\n",
      "8312     Chinese\n",
      "Name: FoodType, Length: 7451, dtype: object\n"
     ]
    }
   ],
   "source": [
    "raw_df.columns = raw_df.columns.str.strip()\n",
    "print(raw_df['FoodType'])"
   ]
  },
  {
   "cell_type": "code",
   "execution_count": 108,
   "id": "60e4a900",
   "metadata": {},
   "outputs": [
    {
     "name": "stdout",
     "output_type": "stream",
     "text": [
      "CompleteStoreName    0\n",
      "FoodType             0\n",
      "AverageRating        0\n",
      "Reviewers            0\n",
      "City                 0\n",
      "dtype: int64\n"
     ]
    }
   ],
   "source": [
    "print(raw_df.isnull().sum())\n"
   ]
  },
  {
   "cell_type": "markdown",
   "id": "c6fbcac4",
   "metadata": {},
   "source": [
    "# Converting the DataTypes of numerical columns to numeric dataype if any"
   ]
  },
  {
   "cell_type": "code",
   "execution_count": 109,
   "id": "3fcebd5f",
   "metadata": {},
   "outputs": [
    {
     "data": {
      "text/plain": [
       "0       4.9\n",
       "1       5.0\n",
       "2       4.9\n",
       "3       5.0\n",
       "4       4.9\n",
       "       ... \n",
       "8308    4.8\n",
       "8309    4.9\n",
       "8310    4.6\n",
       "8311    4.6\n",
       "8312    5.0\n",
       "Name: AverageRating, Length: 7451, dtype: float64"
      ]
     },
     "execution_count": 109,
     "metadata": {},
     "output_type": "execute_result"
    }
   ],
   "source": [
    "raw_df['AverageRating']"
   ]
  },
  {
   "cell_type": "code",
   "execution_count": 110,
   "id": "e81ef607",
   "metadata": {},
   "outputs": [
    {
     "data": {
      "text/plain": [
       "4.9    2184\n",
       "5.0    1867\n",
       "0.0    1392\n",
       "4.8     772\n",
       "4.7     395\n",
       "4.6     194\n",
       "4.5     133\n",
       "4.4      88\n",
       "4.2      64\n",
       "4.3      57\n",
       "4.1      51\n",
       "4.0      31\n",
       "3.8      31\n",
       "3.9      28\n",
       "3.7      26\n",
       "3.5      16\n",
       "3.0      14\n",
       "3.6      13\n",
       "3.1      10\n",
       "3.3       9\n",
       "3.2       8\n",
       "3.4       8\n",
       "2.1       7\n",
       "2.2       7\n",
       "2.3       5\n",
       "2.0       5\n",
       "2.8       4\n",
       "1.9       4\n",
       "2.9       3\n",
       "1.6       3\n",
       "1.0       3\n",
       "2.4       3\n",
       "1.2       3\n",
       "2.7       3\n",
       "1.8       2\n",
       "1.5       2\n",
       "2.5       2\n",
       "1.4       2\n",
       "1.1       1\n",
       "1.7       1\n",
       "Name: AverageRating, dtype: int64"
      ]
     },
     "execution_count": 110,
     "metadata": {},
     "output_type": "execute_result"
    }
   ],
   "source": [
    "raw_df['AverageRating'].value_counts()"
   ]
  },
  {
   "cell_type": "code",
   "execution_count": 111,
   "id": "3dfda097",
   "metadata": {},
   "outputs": [
    {
     "data": {
      "text/plain": [
       "0       1392\n",
       "5        121\n",
       "6        116\n",
       "8         93\n",
       "7         90\n",
       "        ... \n",
       "1348       1\n",
       "2565       1\n",
       "2391       1\n",
       "2052       1\n",
       "722        1\n",
       "Name: Reviewers, Length: 1448, dtype: int64"
      ]
     },
     "execution_count": 111,
     "metadata": {},
     "output_type": "execute_result"
    }
   ],
   "source": [
    "raw_df['Reviewers'].value_counts()"
   ]
  },
  {
   "cell_type": "code",
   "execution_count": 112,
   "id": "4d91da70",
   "metadata": {},
   "outputs": [
    {
     "name": "stdout",
     "output_type": "stream",
     "text": [
      "<class 'pandas.core.frame.DataFrame'>\n",
      "Int64Index: 7451 entries, 0 to 8312\n",
      "Data columns (total 5 columns):\n",
      " #   Column             Non-Null Count  Dtype  \n",
      "---  ------             --------------  -----  \n",
      " 0   CompleteStoreName  7451 non-null   object \n",
      " 1   FoodType           7451 non-null   object \n",
      " 2   AverageRating      7451 non-null   float64\n",
      " 3   Reviewers          7451 non-null   int64  \n",
      " 4   City               7451 non-null   object \n",
      "dtypes: float64(1), int64(1), object(3)\n",
      "memory usage: 349.3+ KB\n"
     ]
    }
   ],
   "source": [
    "raw_df.info()"
   ]
  },
  {
   "cell_type": "code",
   "execution_count": 81,
   "id": "bb560827",
   "metadata": {},
   "outputs": [
    {
     "name": "stdout",
     "output_type": "stream",
     "text": [
      "<class 'pandas.core.frame.DataFrame'>\n",
      "Int64Index: 7451 entries, 0 to 8312\n",
      "Data columns (total 5 columns):\n",
      " #   Column             Non-Null Count  Dtype  \n",
      "---  ------             --------------  -----  \n",
      " 0   CompleteStoreName  7451 non-null   object \n",
      " 1   FoodType           7451 non-null   object \n",
      " 2   AverageRating      7451 non-null   float64\n",
      " 3   Reviewers          7451 non-null   int64  \n",
      " 4   City               7451 non-null   object \n",
      "dtypes: float64(1), int64(1), object(3)\n",
      "memory usage: 349.3+ KB\n"
     ]
    }
   ],
   "source": [
    "# Checking info of all the columns\n",
    "raw_df.info()"
   ]
  },
  {
   "cell_type": "markdown",
   "id": "ada2905a",
   "metadata": {},
   "source": [
    "# Removing the  records whose AverageRating or Reviewers  is 0"
   ]
  },
  {
   "cell_type": "code",
   "execution_count": 113,
   "id": "1e8e4611",
   "metadata": {},
   "outputs": [
    {
     "data": {
      "text/html": [
       "<div>\n",
       "<style scoped>\n",
       "    .dataframe tbody tr th:only-of-type {\n",
       "        vertical-align: middle;\n",
       "    }\n",
       "\n",
       "    .dataframe tbody tr th {\n",
       "        vertical-align: top;\n",
       "    }\n",
       "\n",
       "    .dataframe thead th {\n",
       "        text-align: right;\n",
       "    }\n",
       "</style>\n",
       "<table border=\"1\" class=\"dataframe\">\n",
       "  <thead>\n",
       "    <tr style=\"text-align: right;\">\n",
       "      <th></th>\n",
       "      <th>CompleteStoreName</th>\n",
       "      <th>FoodType</th>\n",
       "      <th>AverageRating</th>\n",
       "      <th>Reviewers</th>\n",
       "      <th>City</th>\n",
       "    </tr>\n",
       "  </thead>\n",
       "  <tbody>\n",
       "    <tr>\n",
       "      <th>0</th>\n",
       "      <td>Peng Cheng Northern Jiangsu Cuisine 彭城小厨 (Temp...</td>\n",
       "      <td>Chinese</td>\n",
       "      <td>4.9</td>\n",
       "      <td>169</td>\n",
       "      <td>singapore</td>\n",
       "    </tr>\n",
       "    <tr>\n",
       "      <th>1</th>\n",
       "      <td>Shu Liu Xiang 蜀留香 (Woodlands MRT)</td>\n",
       "      <td>Chinese</td>\n",
       "      <td>5.0</td>\n",
       "      <td>285</td>\n",
       "      <td>singapore</td>\n",
       "    </tr>\n",
       "    <tr>\n",
       "      <th>2</th>\n",
       "      <td>NYP Chicken Rice (Nanyang Polytechnic)</td>\n",
       "      <td>Chicken</td>\n",
       "      <td>4.9</td>\n",
       "      <td>509</td>\n",
       "      <td>singapore</td>\n",
       "    </tr>\n",
       "    <tr>\n",
       "      <th>3</th>\n",
       "      <td>Sumo Bar Happy (Middle Road) [Pandago]</td>\n",
       "      <td>Japanese</td>\n",
       "      <td>5.0</td>\n",
       "      <td>11</td>\n",
       "      <td>singapore</td>\n",
       "    </tr>\n",
       "    <tr>\n",
       "      <th>4</th>\n",
       "      <td>King Dae Bak Korean (Compass One)</td>\n",
       "      <td>Korean</td>\n",
       "      <td>4.9</td>\n",
       "      <td>15</td>\n",
       "      <td>singapore</td>\n",
       "    </tr>\n",
       "  </tbody>\n",
       "</table>\n",
       "</div>"
      ],
      "text/plain": [
       "                                   CompleteStoreName  FoodType  AverageRating  \\\n",
       "0  Peng Cheng Northern Jiangsu Cuisine 彭城小厨 (Temp...   Chinese            4.9   \n",
       "1                  Shu Liu Xiang 蜀留香 (Woodlands MRT)   Chinese            5.0   \n",
       "2             NYP Chicken Rice (Nanyang Polytechnic)   Chicken            4.9   \n",
       "3             Sumo Bar Happy (Middle Road) [Pandago]  Japanese            5.0   \n",
       "4                  King Dae Bak Korean (Compass One)    Korean            4.9   \n",
       "\n",
       "   Reviewers       City  \n",
       "0        169  singapore  \n",
       "1        285  singapore  \n",
       "2        509  singapore  \n",
       "3         11  singapore  \n",
       "4         15  singapore  "
      ]
     },
     "execution_count": 113,
     "metadata": {},
     "output_type": "execute_result"
    }
   ],
   "source": [
    "raw_df.head()"
   ]
  },
  {
   "cell_type": "code",
   "execution_count": 114,
   "id": "0074a3f3",
   "metadata": {},
   "outputs": [
    {
     "data": {
      "text/html": [
       "<div>\n",
       "<style scoped>\n",
       "    .dataframe tbody tr th:only-of-type {\n",
       "        vertical-align: middle;\n",
       "    }\n",
       "\n",
       "    .dataframe tbody tr th {\n",
       "        vertical-align: top;\n",
       "    }\n",
       "\n",
       "    .dataframe thead th {\n",
       "        text-align: right;\n",
       "    }\n",
       "</style>\n",
       "<table border=\"1\" class=\"dataframe\">\n",
       "  <thead>\n",
       "    <tr style=\"text-align: right;\">\n",
       "      <th></th>\n",
       "      <th>CompleteStoreName</th>\n",
       "      <th>FoodType</th>\n",
       "      <th>AverageRating</th>\n",
       "      <th>Reviewers</th>\n",
       "      <th>City</th>\n",
       "    </tr>\n",
       "  </thead>\n",
       "  <tbody>\n",
       "    <tr>\n",
       "      <th>5</th>\n",
       "      <td>Rong Cheng Mala Xiang Guo (Ang Mo Kio Avenue 4)</td>\n",
       "      <td>Mala Xiang Guo</td>\n",
       "      <td>0.0</td>\n",
       "      <td>0</td>\n",
       "      <td>singapore</td>\n",
       "    </tr>\n",
       "    <tr>\n",
       "      <th>13</th>\n",
       "      <td>Wareong Sedap Special Ayam Penyet (Tagore Lane)</td>\n",
       "      <td>Indonesian</td>\n",
       "      <td>0.0</td>\n",
       "      <td>0</td>\n",
       "      <td>singapore</td>\n",
       "    </tr>\n",
       "    <tr>\n",
       "      <th>15</th>\n",
       "      <td>Curry Paradise Indian Muslim Food (Jalan Bukit...</td>\n",
       "      <td>Indian</td>\n",
       "      <td>0.0</td>\n",
       "      <td>0</td>\n",
       "      <td>singapore</td>\n",
       "    </tr>\n",
       "    <tr>\n",
       "      <th>20</th>\n",
       "      <td>The Bark Cafe (1000 Upper Changi Rd North) - I...</td>\n",
       "      <td>Western</td>\n",
       "      <td>0.0</td>\n",
       "      <td>0</td>\n",
       "      <td>singapore</td>\n",
       "    </tr>\n",
       "    <tr>\n",
       "      <th>29</th>\n",
       "      <td>CHEN DE MALA HOTPOT 晨的麻辣香锅</td>\n",
       "      <td>Chinese</td>\n",
       "      <td>0.0</td>\n",
       "      <td>0</td>\n",
       "      <td>singapore</td>\n",
       "    </tr>\n",
       "    <tr>\n",
       "      <th>...</th>\n",
       "      <td>...</td>\n",
       "      <td>...</td>\n",
       "      <td>...</td>\n",
       "      <td>...</td>\n",
       "      <td>...</td>\n",
       "    </tr>\n",
       "    <tr>\n",
       "      <th>8283</th>\n",
       "      <td>SSAK3 Korean BBQ &amp; Bistro (Bras Basah Complex)...</td>\n",
       "      <td>Korean</td>\n",
       "      <td>0.0</td>\n",
       "      <td>0</td>\n",
       "      <td>singapore</td>\n",
       "    </tr>\n",
       "    <tr>\n",
       "      <th>8284</th>\n",
       "      <td>Mei Xi Yong Tau Foo (Bidadari Park Drive)</td>\n",
       "      <td>Asian</td>\n",
       "      <td>0.0</td>\n",
       "      <td>0</td>\n",
       "      <td>singapore</td>\n",
       "    </tr>\n",
       "    <tr>\n",
       "      <th>8292</th>\n",
       "      <td>Peng Cheng Northern Jiangsu Cuisine 彭城小厨 (Temp...</td>\n",
       "      <td>Chinese</td>\n",
       "      <td>0.0</td>\n",
       "      <td>0</td>\n",
       "      <td>singapore</td>\n",
       "    </tr>\n",
       "    <tr>\n",
       "      <th>8293</th>\n",
       "      <td>Tree Side Nasi Lemak (Balestier)</td>\n",
       "      <td>Asian</td>\n",
       "      <td>0.0</td>\n",
       "      <td>0</td>\n",
       "      <td>singapore</td>\n",
       "    </tr>\n",
       "    <tr>\n",
       "      <th>8302</th>\n",
       "      <td>Yu Pavilion (Hougang)</td>\n",
       "      <td>Chinese</td>\n",
       "      <td>0.0</td>\n",
       "      <td>0</td>\n",
       "      <td>singapore</td>\n",
       "    </tr>\n",
       "  </tbody>\n",
       "</table>\n",
       "<p>1392 rows × 5 columns</p>\n",
       "</div>"
      ],
      "text/plain": [
       "                                      CompleteStoreName        FoodType  \\\n",
       "5       Rong Cheng Mala Xiang Guo (Ang Mo Kio Avenue 4)  Mala Xiang Guo   \n",
       "13      Wareong Sedap Special Ayam Penyet (Tagore Lane)      Indonesian   \n",
       "15    Curry Paradise Indian Muslim Food (Jalan Bukit...          Indian   \n",
       "20    The Bark Cafe (1000 Upper Changi Rd North) - I...         Western   \n",
       "29                           CHEN DE MALA HOTPOT 晨的麻辣香锅         Chinese   \n",
       "...                                                 ...             ...   \n",
       "8283  SSAK3 Korean BBQ & Bistro (Bras Basah Complex)...          Korean   \n",
       "8284          Mei Xi Yong Tau Foo (Bidadari Park Drive)           Asian   \n",
       "8292  Peng Cheng Northern Jiangsu Cuisine 彭城小厨 (Temp...         Chinese   \n",
       "8293                   Tree Side Nasi Lemak (Balestier)           Asian   \n",
       "8302                              Yu Pavilion (Hougang)         Chinese   \n",
       "\n",
       "      AverageRating  Reviewers       City  \n",
       "5               0.0          0  singapore  \n",
       "13              0.0          0  singapore  \n",
       "15              0.0          0  singapore  \n",
       "20              0.0          0  singapore  \n",
       "29              0.0          0  singapore  \n",
       "...             ...        ...        ...  \n",
       "8283            0.0          0  singapore  \n",
       "8284            0.0          0  singapore  \n",
       "8292            0.0          0  singapore  \n",
       "8293            0.0          0  singapore  \n",
       "8302            0.0          0  singapore  \n",
       "\n",
       "[1392 rows x 5 columns]"
      ]
     },
     "execution_count": 114,
     "metadata": {},
     "output_type": "execute_result"
    }
   ],
   "source": [
    "# Finding those restaurant whose has 0 Rating or Votes\n",
    "useless_data = (raw_df['AverageRating'] == 0.0) | (raw_df['Reviewers'] == 0)\n",
    "raw_df[useless_data]"
   ]
  },
  {
   "cell_type": "code",
   "execution_count": 115,
   "id": "4fdb2084",
   "metadata": {},
   "outputs": [],
   "source": [
    "## Performing Negation of the useless dataset and then storing the correct data back in the raw_df DataFrame\n",
    "## This permamnently remove the wrong data from the original dataframe\n",
    "raw_df = raw_df[~useless_data]"
   ]
  },
  {
   "cell_type": "code",
   "execution_count": 116,
   "id": "4168b74e",
   "metadata": {
    "scrolled": true
   },
   "outputs": [
    {
     "data": {
      "text/html": [
       "<div>\n",
       "<style scoped>\n",
       "    .dataframe tbody tr th:only-of-type {\n",
       "        vertical-align: middle;\n",
       "    }\n",
       "\n",
       "    .dataframe tbody tr th {\n",
       "        vertical-align: top;\n",
       "    }\n",
       "\n",
       "    .dataframe thead th {\n",
       "        text-align: right;\n",
       "    }\n",
       "</style>\n",
       "<table border=\"1\" class=\"dataframe\">\n",
       "  <thead>\n",
       "    <tr style=\"text-align: right;\">\n",
       "      <th></th>\n",
       "      <th>CompleteStoreName</th>\n",
       "      <th>FoodType</th>\n",
       "      <th>AverageRating</th>\n",
       "      <th>Reviewers</th>\n",
       "      <th>City</th>\n",
       "    </tr>\n",
       "  </thead>\n",
       "  <tbody>\n",
       "    <tr>\n",
       "      <th>0</th>\n",
       "      <td>Peng Cheng Northern Jiangsu Cuisine 彭城小厨 (Temp...</td>\n",
       "      <td>Chinese</td>\n",
       "      <td>4.9</td>\n",
       "      <td>169</td>\n",
       "      <td>singapore</td>\n",
       "    </tr>\n",
       "    <tr>\n",
       "      <th>1</th>\n",
       "      <td>Shu Liu Xiang 蜀留香 (Woodlands MRT)</td>\n",
       "      <td>Chinese</td>\n",
       "      <td>5.0</td>\n",
       "      <td>285</td>\n",
       "      <td>singapore</td>\n",
       "    </tr>\n",
       "    <tr>\n",
       "      <th>2</th>\n",
       "      <td>NYP Chicken Rice (Nanyang Polytechnic)</td>\n",
       "      <td>Chicken</td>\n",
       "      <td>4.9</td>\n",
       "      <td>509</td>\n",
       "      <td>singapore</td>\n",
       "    </tr>\n",
       "    <tr>\n",
       "      <th>3</th>\n",
       "      <td>Sumo Bar Happy (Middle Road) [Pandago]</td>\n",
       "      <td>Japanese</td>\n",
       "      <td>5.0</td>\n",
       "      <td>11</td>\n",
       "      <td>singapore</td>\n",
       "    </tr>\n",
       "    <tr>\n",
       "      <th>4</th>\n",
       "      <td>King Dae Bak Korean (Compass One)</td>\n",
       "      <td>Korean</td>\n",
       "      <td>4.9</td>\n",
       "      <td>15</td>\n",
       "      <td>singapore</td>\n",
       "    </tr>\n",
       "    <tr>\n",
       "      <th>...</th>\n",
       "      <td>...</td>\n",
       "      <td>...</td>\n",
       "      <td>...</td>\n",
       "      <td>...</td>\n",
       "      <td>...</td>\n",
       "    </tr>\n",
       "    <tr>\n",
       "      <th>8308</th>\n",
       "      <td>Sarawak Noodle (Jalan Besar)</td>\n",
       "      <td>Noodles</td>\n",
       "      <td>4.8</td>\n",
       "      <td>81</td>\n",
       "      <td>singapore</td>\n",
       "    </tr>\n",
       "    <tr>\n",
       "      <th>8309</th>\n",
       "      <td>Makan Melaka (Haig Road)</td>\n",
       "      <td>Dessert</td>\n",
       "      <td>4.9</td>\n",
       "      <td>57</td>\n",
       "      <td>singapore</td>\n",
       "    </tr>\n",
       "    <tr>\n",
       "      <th>8310</th>\n",
       "      <td>La Jia Restaurant (Bugis/City Hall)</td>\n",
       "      <td>Chinese</td>\n",
       "      <td>4.6</td>\n",
       "      <td>5</td>\n",
       "      <td>singapore</td>\n",
       "    </tr>\n",
       "    <tr>\n",
       "      <th>8311</th>\n",
       "      <td>Gou La Ma? Mala Hotpot 够辣麻? (Toa Payoh Mall)</td>\n",
       "      <td>Asian</td>\n",
       "      <td>4.6</td>\n",
       "      <td>6</td>\n",
       "      <td>singapore</td>\n",
       "    </tr>\n",
       "    <tr>\n",
       "      <th>8312</th>\n",
       "      <td>Oriental Chinese 东方美食武吉士店 (Liang Seah Street)</td>\n",
       "      <td>Chinese</td>\n",
       "      <td>5.0</td>\n",
       "      <td>12</td>\n",
       "      <td>singapore</td>\n",
       "    </tr>\n",
       "  </tbody>\n",
       "</table>\n",
       "<p>6059 rows × 5 columns</p>\n",
       "</div>"
      ],
      "text/plain": [
       "                                      CompleteStoreName  FoodType  \\\n",
       "0     Peng Cheng Northern Jiangsu Cuisine 彭城小厨 (Temp...   Chinese   \n",
       "1                     Shu Liu Xiang 蜀留香 (Woodlands MRT)   Chinese   \n",
       "2                NYP Chicken Rice (Nanyang Polytechnic)   Chicken   \n",
       "3                Sumo Bar Happy (Middle Road) [Pandago]  Japanese   \n",
       "4                     King Dae Bak Korean (Compass One)    Korean   \n",
       "...                                                 ...       ...   \n",
       "8308                       Sarawak Noodle (Jalan Besar)   Noodles   \n",
       "8309                           Makan Melaka (Haig Road)   Dessert   \n",
       "8310                La Jia Restaurant (Bugis/City Hall)   Chinese   \n",
       "8311       Gou La Ma? Mala Hotpot 够辣麻? (Toa Payoh Mall)     Asian   \n",
       "8312      Oriental Chinese 东方美食武吉士店 (Liang Seah Street)   Chinese   \n",
       "\n",
       "      AverageRating  Reviewers       City  \n",
       "0               4.9        169  singapore  \n",
       "1               5.0        285  singapore  \n",
       "2               4.9        509  singapore  \n",
       "3               5.0         11  singapore  \n",
       "4               4.9         15  singapore  \n",
       "...             ...        ...        ...  \n",
       "8308            4.8         81  singapore  \n",
       "8309            4.9         57  singapore  \n",
       "8310            4.6          5  singapore  \n",
       "8311            4.6          6  singapore  \n",
       "8312            5.0         12  singapore  \n",
       "\n",
       "[6059 rows x 5 columns]"
      ]
     },
     "execution_count": 116,
     "metadata": {},
     "output_type": "execute_result"
    }
   ],
   "source": [
    "raw_df"
   ]
  },
  {
   "cell_type": "markdown",
   "id": "afe00fb4",
   "metadata": {},
   "source": [
    "# Working on 'FoodType' and Column (unique Value)"
   ]
  },
  {
   "cell_type": "code",
   "execution_count": 117,
   "id": "5ae86260",
   "metadata": {},
   "outputs": [
    {
     "data": {
      "text/plain": [
       "Chinese                 984\n",
       "Indian                  514\n",
       "Asian                   501\n",
       "Western                 311\n",
       "Japanese                297\n",
       "Noodles                 268\n",
       "Singaporean             231\n",
       "Dessert                 201\n",
       "Thai                    192\n",
       "Malaysian               166\n",
       "Korean                  160\n",
       "Seafood                 148\n",
       "Beverages               125\n",
       "Chicken                 123\n",
       "Rice Dishes             115\n",
       "Pizza                   106\n",
       "Cakes                   104\n",
       "Soups                   101\n",
       "Indonesian               96\n",
       "Chicken Rice             83\n",
       "Coffee                   82\n",
       "Vegetarian               79\n",
       "Vietnamese               76\n",
       "Bubble Tea               67\n",
       "Bakery                   66\n",
       "Pasta                    65\n",
       "American                 61\n",
       "Mala Xiang Guo           56\n",
       "Fried Rice               53\n",
       "Healthy                  51\n",
       "Italian                  47\n",
       "Porridge                 43\n",
       "Middle Eastern           38\n",
       "Fried Chicken            38\n",
       "Mexican                  36\n",
       "Sandwiches               34\n",
       "Burgers                  34\n",
       "Snacks                   29\n",
       "Curry                    28\n",
       "Tea                      26\n",
       "Dim Sum                  25\n",
       "Mediterranean            25\n",
       "Ramen                    23\n",
       "Filipino                 22\n",
       "Sushi                    18\n",
       "Pancakes and Waffles     17\n",
       "Nasi Lemak               16\n",
       "Grill                    16\n",
       "Salads                   13\n",
       "Chicken Wings            13\n",
       "Fast Food                11\n",
       "Roti Prata               10\n",
       "Wraps                     8\n",
       "Ice Cream                 3\n",
       "Fries                     2\n",
       "Halal                     1\n",
       "Fish Soup                 1\n",
       "Name: FoodType, dtype: int64"
      ]
     },
     "execution_count": 117,
     "metadata": {},
     "output_type": "execute_result"
    }
   ],
   "source": [
    "# Checking the unique values in the column\n",
    "raw_df['FoodType'].value_counts()"
   ]
  },
  {
   "cell_type": "markdown",
   "id": "d3e49d4c",
   "metadata": {},
   "source": [
    "# Working on 'CompleteStoreName' Column"
   ]
  },
  {
   "cell_type": "code",
   "execution_count": 118,
   "id": "c44cb33c",
   "metadata": {},
   "outputs": [
    {
     "data": {
      "text/plain": [
       "Peng Cheng Northern Jiangsu Cuisine 彭城小厨 (Temple Street)    1\n",
       "Second Serving (Tai Seng Point) - Islandwide                1\n",
       "Greendot (Westgate)                                         1\n",
       "Lucca'S Trattoria (Nostalgia Hotel)                         1\n",
       "Baker'S Brew Studio (Paragon)                               1\n",
       "                                                           ..\n",
       "Francesca's (313@Somerset)                                  1\n",
       "Yen Izakaya Premium 円居酒屋 (Tyrwhitt Road)                    1\n",
       "Saigon Legend (Raffles Quay)                                1\n",
       "Skosh - Onigiri, Sando & Matcha (NAFA)                      1\n",
       "Oriental Chinese 东方美食武吉士店 (Liang Seah Street)               1\n",
       "Name: CompleteStoreName, Length: 6059, dtype: int64"
      ]
     },
     "execution_count": 118,
     "metadata": {},
     "output_type": "execute_result"
    }
   ],
   "source": [
    "raw_df['CompleteStoreName'].value_counts()"
   ]
  },
  {
   "cell_type": "code",
   "execution_count": 119,
   "id": "08c50e53",
   "metadata": {},
   "outputs": [],
   "source": [
    "raw_df['CompleteStoreName'] = (\n",
    "    raw_df['CompleteStoreName']\n",
    "    .str.replace(r\"\\s*\\(.*?\\)\", \"\", regex=True)  # Remove anything in parentheses\n",
    "    .str.replace(r\"\\s*-\\s*.*\", \"\", regex=True)   # Remove ' - anything'\n",
    "    .str.strip()  # Remove extra spaces\n",
    ")"
   ]
  },
  {
   "cell_type": "code",
   "execution_count": 120,
   "id": "5a1f4ca8",
   "metadata": {},
   "outputs": [
    {
     "data": {
      "text/plain": [
       "Al                           20\n",
       "A                             6\n",
       "Red Lantern Seafood           5\n",
       "D'Penyetz                     4\n",
       "TamJai SamGor Mixian          4\n",
       "                             ..\n",
       "Jin Jiak Ho Grill Western     1\n",
       "Fry Shack                     1\n",
       "Easy Eatz Sg – Home           1\n",
       "Japanese Food                 1\n",
       "Oriental Chinese 东方美食武吉士店     1\n",
       "Name: CompleteStoreName, Length: 5133, dtype: int64"
      ]
     },
     "execution_count": 120,
     "metadata": {},
     "output_type": "execute_result"
    }
   ],
   "source": [
    "raw_df['CompleteStoreName'].value_counts()"
   ]
  },
  {
   "cell_type": "code",
   "execution_count": 121,
   "id": "684e4c5a",
   "metadata": {},
   "outputs": [],
   "source": [
    "raw_df['CompleteStoreName'] = raw_df['CompleteStoreName'].str.extract(r'^([A-Za-z0-9\\'\\s&]+)', expand=False).str.strip()\n"
   ]
  },
  {
   "cell_type": "code",
   "execution_count": 122,
   "id": "5ab068e7",
   "metadata": {},
   "outputs": [
    {
     "data": {
      "text/plain": [
       "Al                           20\n",
       "Mr                            6\n",
       "A                             6\n",
       "Red Lantern Seafood           5\n",
       "O                             5\n",
       "                             ..\n",
       "Jin Jiak Ho Grill Western     1\n",
       "Fry Shack                     1\n",
       "Easy Eatz Sg                  1\n",
       "Japanese Food                 1\n",
       "Oriental Chinese              1\n",
       "Name: CompleteStoreName, Length: 5008, dtype: int64"
      ]
     },
     "execution_count": 122,
     "metadata": {},
     "output_type": "execute_result"
    }
   ],
   "source": [
    "raw_df['CompleteStoreName'].value_counts()"
   ]
  },
  {
   "cell_type": "code",
   "execution_count": 123,
   "id": "0f3a1881",
   "metadata": {},
   "outputs": [
    {
     "data": {
      "text/html": [
       "<div>\n",
       "<style scoped>\n",
       "    .dataframe tbody tr th:only-of-type {\n",
       "        vertical-align: middle;\n",
       "    }\n",
       "\n",
       "    .dataframe tbody tr th {\n",
       "        vertical-align: top;\n",
       "    }\n",
       "\n",
       "    .dataframe thead th {\n",
       "        text-align: right;\n",
       "    }\n",
       "</style>\n",
       "<table border=\"1\" class=\"dataframe\">\n",
       "  <thead>\n",
       "    <tr style=\"text-align: right;\">\n",
       "      <th></th>\n",
       "      <th>CompleteStoreName</th>\n",
       "      <th>FoodType</th>\n",
       "      <th>AverageRating</th>\n",
       "      <th>Reviewers</th>\n",
       "      <th>City</th>\n",
       "    </tr>\n",
       "  </thead>\n",
       "  <tbody>\n",
       "    <tr>\n",
       "      <th>0</th>\n",
       "      <td>Peng Cheng Northern Jiangsu Cuisine</td>\n",
       "      <td>Chinese</td>\n",
       "      <td>4.9</td>\n",
       "      <td>169</td>\n",
       "      <td>singapore</td>\n",
       "    </tr>\n",
       "    <tr>\n",
       "      <th>1</th>\n",
       "      <td>Shu Liu Xiang</td>\n",
       "      <td>Chinese</td>\n",
       "      <td>5.0</td>\n",
       "      <td>285</td>\n",
       "      <td>singapore</td>\n",
       "    </tr>\n",
       "    <tr>\n",
       "      <th>2</th>\n",
       "      <td>NYP Chicken Rice</td>\n",
       "      <td>Chicken</td>\n",
       "      <td>4.9</td>\n",
       "      <td>509</td>\n",
       "      <td>singapore</td>\n",
       "    </tr>\n",
       "    <tr>\n",
       "      <th>3</th>\n",
       "      <td>Sumo Bar Happy</td>\n",
       "      <td>Japanese</td>\n",
       "      <td>5.0</td>\n",
       "      <td>11</td>\n",
       "      <td>singapore</td>\n",
       "    </tr>\n",
       "    <tr>\n",
       "      <th>4</th>\n",
       "      <td>King Dae Bak Korean</td>\n",
       "      <td>Korean</td>\n",
       "      <td>4.9</td>\n",
       "      <td>15</td>\n",
       "      <td>singapore</td>\n",
       "    </tr>\n",
       "    <tr>\n",
       "      <th>...</th>\n",
       "      <td>...</td>\n",
       "      <td>...</td>\n",
       "      <td>...</td>\n",
       "      <td>...</td>\n",
       "      <td>...</td>\n",
       "    </tr>\n",
       "    <tr>\n",
       "      <th>8308</th>\n",
       "      <td>Sarawak Noodle</td>\n",
       "      <td>Noodles</td>\n",
       "      <td>4.8</td>\n",
       "      <td>81</td>\n",
       "      <td>singapore</td>\n",
       "    </tr>\n",
       "    <tr>\n",
       "      <th>8309</th>\n",
       "      <td>Makan Melaka</td>\n",
       "      <td>Dessert</td>\n",
       "      <td>4.9</td>\n",
       "      <td>57</td>\n",
       "      <td>singapore</td>\n",
       "    </tr>\n",
       "    <tr>\n",
       "      <th>8310</th>\n",
       "      <td>La Jia Restaurant</td>\n",
       "      <td>Chinese</td>\n",
       "      <td>4.6</td>\n",
       "      <td>5</td>\n",
       "      <td>singapore</td>\n",
       "    </tr>\n",
       "    <tr>\n",
       "      <th>8311</th>\n",
       "      <td>Gou La Ma</td>\n",
       "      <td>Asian</td>\n",
       "      <td>4.6</td>\n",
       "      <td>6</td>\n",
       "      <td>singapore</td>\n",
       "    </tr>\n",
       "    <tr>\n",
       "      <th>8312</th>\n",
       "      <td>Oriental Chinese</td>\n",
       "      <td>Chinese</td>\n",
       "      <td>5.0</td>\n",
       "      <td>12</td>\n",
       "      <td>singapore</td>\n",
       "    </tr>\n",
       "  </tbody>\n",
       "</table>\n",
       "<p>6059 rows × 5 columns</p>\n",
       "</div>"
      ],
      "text/plain": [
       "                        CompleteStoreName  FoodType  AverageRating  Reviewers  \\\n",
       "0     Peng Cheng Northern Jiangsu Cuisine   Chinese            4.9        169   \n",
       "1                           Shu Liu Xiang   Chinese            5.0        285   \n",
       "2                        NYP Chicken Rice   Chicken            4.9        509   \n",
       "3                          Sumo Bar Happy  Japanese            5.0         11   \n",
       "4                     King Dae Bak Korean    Korean            4.9         15   \n",
       "...                                   ...       ...            ...        ...   \n",
       "8308                       Sarawak Noodle   Noodles            4.8         81   \n",
       "8309                         Makan Melaka   Dessert            4.9         57   \n",
       "8310                    La Jia Restaurant   Chinese            4.6          5   \n",
       "8311                            Gou La Ma     Asian            4.6          6   \n",
       "8312                     Oriental Chinese   Chinese            5.0         12   \n",
       "\n",
       "           City  \n",
       "0     singapore  \n",
       "1     singapore  \n",
       "2     singapore  \n",
       "3     singapore  \n",
       "4     singapore  \n",
       "...         ...  \n",
       "8308  singapore  \n",
       "8309  singapore  \n",
       "8310  singapore  \n",
       "8311  singapore  \n",
       "8312  singapore  \n",
       "\n",
       "[6059 rows x 5 columns]"
      ]
     },
     "execution_count": 123,
     "metadata": {},
     "output_type": "execute_result"
    }
   ],
   "source": [
    "raw_df"
   ]
  },
  {
   "cell_type": "markdown",
   "id": "c3904c7a",
   "metadata": {},
   "source": [
    "# Removing Duplicate records"
   ]
  },
  {
   "cell_type": "code",
   "execution_count": 124,
   "id": "8615b962",
   "metadata": {},
   "outputs": [
    {
     "data": {
      "text/html": [
       "<div>\n",
       "<style scoped>\n",
       "    .dataframe tbody tr th:only-of-type {\n",
       "        vertical-align: middle;\n",
       "    }\n",
       "\n",
       "    .dataframe tbody tr th {\n",
       "        vertical-align: top;\n",
       "    }\n",
       "\n",
       "    .dataframe thead th {\n",
       "        text-align: right;\n",
       "    }\n",
       "</style>\n",
       "<table border=\"1\" class=\"dataframe\">\n",
       "  <thead>\n",
       "    <tr style=\"text-align: right;\">\n",
       "      <th></th>\n",
       "      <th>CompleteStoreName</th>\n",
       "      <th>FoodType</th>\n",
       "      <th>AverageRating</th>\n",
       "      <th>Reviewers</th>\n",
       "      <th>City</th>\n",
       "    </tr>\n",
       "  </thead>\n",
       "  <tbody>\n",
       "  </tbody>\n",
       "</table>\n",
       "</div>"
      ],
      "text/plain": [
       "Empty DataFrame\n",
       "Columns: [CompleteStoreName, FoodType, AverageRating, Reviewers, City]\n",
       "Index: []"
      ]
     },
     "execution_count": 124,
     "metadata": {},
     "output_type": "execute_result"
    }
   ],
   "source": [
    "# Finding all the duplicate rows\n",
    "raw_df[raw_df.duplicated()]"
   ]
  },
  {
   "cell_type": "markdown",
   "id": "02d5f62c",
   "metadata": {},
   "source": [
    "# Copying the cleaned data into a new DataFrame"
   ]
  },
  {
   "cell_type": "code",
   "execution_count": 125,
   "id": "e0b45591",
   "metadata": {},
   "outputs": [],
   "source": [
    "foodpanda_df = raw_df.copy()"
   ]
  },
  {
   "cell_type": "code",
   "execution_count": 126,
   "id": "5d8c9231",
   "metadata": {},
   "outputs": [
    {
     "data": {
      "text/html": [
       "<div>\n",
       "<style scoped>\n",
       "    .dataframe tbody tr th:only-of-type {\n",
       "        vertical-align: middle;\n",
       "    }\n",
       "\n",
       "    .dataframe tbody tr th {\n",
       "        vertical-align: top;\n",
       "    }\n",
       "\n",
       "    .dataframe thead th {\n",
       "        text-align: right;\n",
       "    }\n",
       "</style>\n",
       "<table border=\"1\" class=\"dataframe\">\n",
       "  <thead>\n",
       "    <tr style=\"text-align: right;\">\n",
       "      <th></th>\n",
       "      <th>CompleteStoreName</th>\n",
       "      <th>FoodType</th>\n",
       "      <th>AverageRating</th>\n",
       "      <th>Reviewers</th>\n",
       "      <th>City</th>\n",
       "    </tr>\n",
       "  </thead>\n",
       "  <tbody>\n",
       "    <tr>\n",
       "      <th>0</th>\n",
       "      <td>Peng Cheng Northern Jiangsu Cuisine</td>\n",
       "      <td>Chinese</td>\n",
       "      <td>4.9</td>\n",
       "      <td>169</td>\n",
       "      <td>singapore</td>\n",
       "    </tr>\n",
       "    <tr>\n",
       "      <th>1</th>\n",
       "      <td>Shu Liu Xiang</td>\n",
       "      <td>Chinese</td>\n",
       "      <td>5.0</td>\n",
       "      <td>285</td>\n",
       "      <td>singapore</td>\n",
       "    </tr>\n",
       "    <tr>\n",
       "      <th>2</th>\n",
       "      <td>NYP Chicken Rice</td>\n",
       "      <td>Chicken</td>\n",
       "      <td>4.9</td>\n",
       "      <td>509</td>\n",
       "      <td>singapore</td>\n",
       "    </tr>\n",
       "    <tr>\n",
       "      <th>3</th>\n",
       "      <td>Sumo Bar Happy</td>\n",
       "      <td>Japanese</td>\n",
       "      <td>5.0</td>\n",
       "      <td>11</td>\n",
       "      <td>singapore</td>\n",
       "    </tr>\n",
       "    <tr>\n",
       "      <th>4</th>\n",
       "      <td>King Dae Bak Korean</td>\n",
       "      <td>Korean</td>\n",
       "      <td>4.9</td>\n",
       "      <td>15</td>\n",
       "      <td>singapore</td>\n",
       "    </tr>\n",
       "  </tbody>\n",
       "</table>\n",
       "</div>"
      ],
      "text/plain": [
       "                     CompleteStoreName  FoodType  AverageRating  Reviewers  \\\n",
       "0  Peng Cheng Northern Jiangsu Cuisine   Chinese            4.9        169   \n",
       "1                        Shu Liu Xiang   Chinese            5.0        285   \n",
       "2                     NYP Chicken Rice   Chicken            4.9        509   \n",
       "3                       Sumo Bar Happy  Japanese            5.0         11   \n",
       "4                  King Dae Bak Korean    Korean            4.9         15   \n",
       "\n",
       "        City  \n",
       "0  singapore  \n",
       "1  singapore  \n",
       "2  singapore  \n",
       "3  singapore  \n",
       "4  singapore  "
      ]
     },
     "execution_count": 126,
     "metadata": {},
     "output_type": "execute_result"
    }
   ],
   "source": [
    "foodpanda_df.head()"
   ]
  },
  {
   "cell_type": "markdown",
   "id": "25aa8845",
   "metadata": {},
   "source": [
    "# Performing Exploratory Data Analysis"
   ]
  },
  {
   "cell_type": "markdown",
   "id": "748c6b02",
   "metadata": {},
   "source": [
    "# People in singapore Indian food Review"
   ]
  },
  {
   "cell_type": "code",
   "execution_count": 127,
   "id": "87bedc63",
   "metadata": {},
   "outputs": [],
   "source": [
    "indian_df = raw_df[(raw_df['FoodType'].str.lower() == 'indian') & (raw_df['City'].str.lower() == 'singapore')]\n"
   ]
  },
  {
   "cell_type": "code",
   "execution_count": 128,
   "id": "7d05f83a",
   "metadata": {},
   "outputs": [
    {
     "name": "stdout",
     "output_type": "stream",
     "text": [
      "Total reviewers for Indian food in Singapore: 334950\n"
     ]
    }
   ],
   "source": [
    "total_reviewers_indian = indian_df['Reviewers'].sum()\n",
    "print(\"Total reviewers for Indian food in Singapore:\", total_reviewers_indian)\n"
   ]
  },
  {
   "cell_type": "code",
   "execution_count": 129,
   "id": "48059986",
   "metadata": {},
   "outputs": [
    {
     "data": {
      "image/png": "[encoded data removed]",
      "text/plain": [
       "<Figure size 640x480 with 1 Axes>"
      ]
     },
     "metadata": {},
     "output_type": "display_data"
    }
   ],
   "source": [
    "import matplotlib.pyplot as plt\n",
    "\n",
    "plt.bar(['Indian Food'], [total_reviewers_indian], color='purple')\n",
    "plt.title('Total Reviewers for Indian Food in Singapore')\n",
    "plt.ylabel('Number of Reviewers')\n",
    "plt.show()\n"
   ]
  },
  {
   "cell_type": "code",
   "execution_count": 131,
   "id": "fa05a609",
   "metadata": {},
   "outputs": [
    {
     "data": {
      "image/png": "[encoded data removed]",
      "text/plain": [
       "<Figure size 640x480 with 1 Axes>"
      ]
     },
     "metadata": {},
     "output_type": "display_data"
    }
   ],
   "source": [
    "plt.hist(indian_df['Reviewers'], bins=10, color='green', edgecolor='black')\n",
    "plt.title('Histogram of Reviewers for Indian Restaurants')\n",
    "plt.xlabel('Number of Reviewers')\n",
    "plt.ylabel('Frequency')\n",
    "plt.show()\n"
   ]
  },
  {
   "cell_type": "markdown",
   "id": "74ee9002",
   "metadata": {},
   "source": [
    "# Compare the number of reviewers for different food types in Singapore"
   ]
  },
  {
   "cell_type": "code",
   "execution_count": 133,
   "id": "e656f0bb",
   "metadata": {},
   "outputs": [
    {
     "name": "stdout",
     "output_type": "stream",
     "text": [
      "FoodType\n",
      "chinese     409744\n",
      "indian      334950\n",
      "japanese     81151\n",
      "korean       45769\n",
      "Name: Reviewers, dtype: int64\n"
     ]
    }
   ],
   "source": [
    "# Ensure food type and city are lowercase for matching\n",
    "raw_df['FoodType'] = raw_df['FoodType'].str.lower()\n",
    "raw_df['City'] = raw_df['City'].str.lower()\n",
    "\n",
    "# Filter only for Singapore and selected cuisines\n",
    "filtered_df = raw_df[\n",
    "    (raw_df['City'] == 'singapore') &\n",
    "    (raw_df['FoodType'].isin(['indian', 'chinese', 'korean', 'japanese']))\n",
    "]\n",
    "\n",
    "# Group and sum reviewers\n",
    "reviewer_counts = filtered_df.groupby('FoodType')['Reviewers'].sum().sort_values(ascending=False)\n",
    "\n",
    "print(reviewer_counts)\n"
   ]
  },
  {
   "cell_type": "code",
   "execution_count": 134,
   "id": "1ee66deb",
   "metadata": {},
   "outputs": [
    {
     "data": {
      "image/png": "[encoded data removed]",
      "text/plain": [
       "<Figure size 800x500 with 1 Axes>"
      ]
     },
     "metadata": {},
     "output_type": "display_data"
    }
   ],
   "source": [
    "import matplotlib.pyplot as plt\n",
    "\n",
    "plt.figure(figsize=(8, 5))\n",
    "reviewer_counts.plot(kind='bar', color=['#FF9999', '#66B3FF', '#99FF99', '#FFCC99'])\n",
    "plt.title('Total Reviewers by Food Type in Singapore')\n",
    "plt.xlabel('Food Type')\n",
    "plt.ylabel('Number of Reviewers')\n",
    "plt.xticks(rotation=45)\n",
    "plt.grid(axis='y', linestyle='--', alpha=0.7)\n",
    "plt.tight_layout()\n",
    "plt.show()\n"
   ]
  },
  {
   "cell_type": "markdown",
   "id": "f77599bf",
   "metadata": {},
   "source": [
    "# Top 10 highest rated restaurants"
   ]
  },
  {
   "cell_type": "code",
   "execution_count": 142,
   "id": "7efe8d55",
   "metadata": {},
   "outputs": [
    {
     "name": "stdout",
     "output_type": "stream",
     "text": [
      "                  CompleteStoreName       FoodType  AverageRating  Reviewers\n",
      "4791        4Fingers Crispy Chicken  fried chicken            5.0      13442\n",
      "1156          Adam's Corner Seafood      malaysian            5.0      11164\n",
      "4954                     Pastamania          pasta            5.0      10035\n",
      "7182             Tenderfresh Xpress        western            5.0       9718\n",
      "7642          Sin Heng Kee Porridge       porridge            5.0       9668\n",
      "5894            Ten Points Porridge       porridge            5.0       9010\n",
      "6059  Zamas River Valley Restaurant         indian            5.0       8860\n",
      "6531     Tenderbest Makcik Tuckshop        western            5.0       7938\n",
      "5964                  Zoul's Corner     indonesian            5.0       7917\n",
      "6023            Tenderfresh Classic        western            5.0       7707\n"
     ]
    }
   ],
   "source": [
    "# Sort by AverageRating (descending) and then by number of Reviewers (optional)\n",
    "top_10 = raw_df.sort_values(by=['AverageRating', 'Reviewers'], ascending=[False, False]).head(10)\n",
    "\n",
    "# Display the result\n",
    "print(top_10[['CompleteStoreName', 'FoodType', 'AverageRating', 'Reviewers']])\n"
   ]
  },
  {
   "cell_type": "code",
   "execution_count": 143,
   "id": "cb7a82c6",
   "metadata": {},
   "outputs": [
    {
     "data": {
      "image/png": "[encoded data removed]",
      "text/plain": [
       "<Figure size 1000x600 with 1 Axes>"
      ]
     },
     "metadata": {},
     "output_type": "display_data"
    }
   ],
   "source": [
    "plt.figure(figsize=(10, 6))\n",
    "plt.barh(\n",
    "    top_10['CompleteStoreName'],\n",
    "    top_10['AverageRating'],\n",
    "    color='skyblue'\n",
    ")\n",
    "plt.xlabel('Average Rating')\n",
    "plt.title('Top 10 Highest Rated Restaurants')\n",
    "plt.gca().invert_yaxis()  # Highest on top\n",
    "plt.tight_layout()\n",
    "plt.show()\n"
   ]
  },
  {
   "cell_type": "markdown",
   "id": "d427d182",
   "metadata": {},
   "source": [
    "# From top rating only Indian Food"
   ]
  },
  {
   "cell_type": "code",
   "execution_count": 144,
   "id": "8a17a8ad",
   "metadata": {},
   "outputs": [
    {
     "name": "stdout",
     "output_type": "stream",
     "text": [
      "                  CompleteStoreName  AverageRating  Reviewers\n",
      "6059  Zamas River Valley Restaurant            5.0       8860\n",
      "6037           New Rezki Restaurant            5.0       7574\n",
      "6026           Al Afrose Restaurant            5.0       6316\n",
      "7762            Thohirah Restaurant            5.0       5428\n",
      "6793                         Haji S            5.0       4767\n",
      "4876                       Brinda's            5.0       4526\n",
      "6450                             An            5.0       4404\n",
      "6449                             Al            5.0       4349\n",
      "4893                        Marhaba            5.0       4326\n",
      "2125                    Ali's Prata            5.0       3258\n"
     ]
    }
   ],
   "source": [
    "# Step 1: Filter Indian food from full dataset\n",
    "indian_df = raw_df[raw_df['FoodType'].str.lower() == 'indian']\n",
    "\n",
    "# Step 2: Sort by rating and reviewers, then get top 10\n",
    "top_10_indian = indian_df.sort_values(by=['AverageRating', 'Reviewers'], ascending=[False, False]).head(10)\n",
    "\n",
    "# Step 3: Show result\n",
    "print(top_10_indian[['CompleteStoreName', 'AverageRating', 'Reviewers']])\n"
   ]
  },
  {
   "cell_type": "code",
   "execution_count": 146,
   "id": "da137d8f",
   "metadata": {},
   "outputs": [
    {
     "data": {
      "image/png": "[encoded data removed]",
      "text/plain": [
       "<Figure size 1000x600 with 1 Axes>"
      ]
     },
     "metadata": {},
     "output_type": "display_data"
    }
   ],
   "source": [
    "import matplotlib.pyplot as plt\n",
    "\n",
    "plt.figure(figsize=(10, 6))\n",
    "bars = plt.barh(\n",
    "    top_10_indian['CompleteStoreName'],\n",
    "    top_10_indian['Reviewers'],\n",
    "    color='green'\n",
    ")\n",
    "\n",
    "# Annotate bars with rating\n",
    "for bar, rating in zip(bars, top_10_indian['AverageRating']):\n",
    "    plt.text(bar.get_width() + 2, bar.get_y() + 0.3, f'★ {rating}', fontsize=9)\n",
    "\n",
    "plt.xlabel('Number of Reviewers')\n",
    "plt.title('Top 10 Indian Restaurants by Rating & Review Count')\n",
    "plt.gca().invert_yaxis()\n",
    "plt.tight_layout()\n",
    "plt.show()\n"
   ]
  },
  {
   "cell_type": "markdown",
   "id": "4f36eff9",
   "metadata": {},
   "source": [
    "# Top 3 most reliable food types"
   ]
  },
  {
   "cell_type": "code",
   "execution_count": 149,
   "id": "76f2b381",
   "metadata": {},
   "outputs": [
    {
     "name": "stdout",
     "output_type": "stream",
     "text": [
      "     FoodType  AverageRating  Reviewers\n",
      "22      halal            5.0        355\n",
      "24  ice cream            5.0        199\n",
      "17  fish soup            5.0        102\n"
     ]
    }
   ],
   "source": [
    "# Step 1: Make sure city and food type are lowercase for consistency\n",
    "raw_df['City'] = raw_df['City'].str.lower()\n",
    "raw_df['FoodType'] = raw_df['FoodType'].str.lower()\n",
    "\n",
    "# Step 2: Filter only Singapore restaurants\n",
    "sg_df = raw_df[raw_df['City'] == 'singapore']\n",
    "\n",
    "# Step 3: Group by FoodType and calculate average rating and total reviewers\n",
    "reliability_df = (\n",
    "    sg_df.groupby('FoodType')\n",
    "    .agg({\n",
    "        'AverageRating': 'mean',\n",
    "        'Reviewers': 'sum'\n",
    "    })\n",
    "    .reset_index()\n",
    ")\n",
    "\n",
    "# Step 4: Filter food types with a decent number of reviewers (e.g., > 100)\n",
    "reliability_df = reliability_df[reliability_df['Reviewers'] > 100]\n",
    "\n",
    "# Step 5: Sort by average rating (descending) and reviewers (descending)\n",
    "reliable_top3 = reliability_df.sort_values(\n",
    "    by=['AverageRating', 'Reviewers'],\n",
    "    ascending=[False, False]\n",
    ").head(3)\n",
    "\n",
    "# Step 6: Display result\n",
    "print(reliable_top3)\n"
   ]
  },
  {
   "cell_type": "code",
   "execution_count": null,
   "id": "c71f7347",
   "metadata": {},
   "outputs": [],
   "source": []
  },
  {
   "cell_type": "code",
   "execution_count": 150,
   "id": "1dfab706",
   "metadata": {},
   "outputs": [],
   "source": [
    "import pandas as pd\n",
    "\n",
    "data = {\n",
    "    'FoodType': ['halal', 'ice cream', 'fish soup'],\n",
    "    'AverageRating': [5.0, 5.0, 5.0],\n",
    "    'Reviewers': [355, 199, 102]\n",
    "}\n",
    "\n",
    "df_top = pd.DataFrame(data)\n"
   ]
  },
  {
   "cell_type": "code",
   "execution_count": 151,
   "id": "e2ffd6b9",
   "metadata": {},
   "outputs": [
    {
     "data": {
      "image/png": "[encoded data removed]",
      "text/plain": [
       "<Figure size 800x500 with 1 Axes>"
      ]
     },
     "metadata": {},
     "output_type": "display_data"
    }
   ],
   "source": [
    "import matplotlib.pyplot as plt\n",
    "\n",
    "plt.figure(figsize=(8, 5))\n",
    "bars = plt.bar(df_top['FoodType'].str.title(), df_top['Reviewers'], color='mediumseagreen')\n",
    "\n",
    "# Annotate each bar with the AverageRating\n",
    "for bar, rating in zip(bars, df_top['AverageRating']):\n",
    "    plt.text(bar.get_x() + bar.get_width()/2, bar.get_height() + 5,\n",
    "             f'★ {rating}', ha='center', fontsize=10, fontweight='bold')\n",
    "\n",
    "plt.title('Top Rated Food Types in Singapore (5★ Rated)')\n",
    "plt.xlabel('Food Type')\n",
    "plt.ylabel('Number of Reviewers')\n",
    "plt.ylim(0, max(df_top['Reviewers']) + 50)\n",
    "plt.grid(axis='y', linestyle='--', alpha=0.6)\n",
    "plt.tight_layout()\n",
    "plt.show()\n"
   ]
  },
  {
   "cell_type": "code",
   "execution_count": 152,
   "id": "5ecad5d3",
   "metadata": {},
   "outputs": [
    {
     "name": "stdout",
     "output_type": "stream",
     "text": [
      "\n",
      "🍽️ Ice Cream Restaurants:\n"
     ]
    },
    {
     "data": {
      "text/html": [
       "<div>\n",
       "<style scoped>\n",
       "    .dataframe tbody tr th:only-of-type {\n",
       "        vertical-align: middle;\n",
       "    }\n",
       "\n",
       "    .dataframe tbody tr th {\n",
       "        vertical-align: top;\n",
       "    }\n",
       "\n",
       "    .dataframe thead th {\n",
       "        text-align: right;\n",
       "    }\n",
       "</style>\n",
       "<table border=\"1\" class=\"dataframe\">\n",
       "  <thead>\n",
       "    <tr style=\"text-align: right;\">\n",
       "      <th></th>\n",
       "      <th>FoodType</th>\n",
       "      <th>CompleteStoreName</th>\n",
       "      <th>AverageRating</th>\n",
       "      <th>Reviewers</th>\n",
       "    </tr>\n",
       "  </thead>\n",
       "  <tbody>\n",
       "    <tr>\n",
       "      <th>297</th>\n",
       "      <td>ice cream</td>\n",
       "      <td>Pang Zi Durian And Ice Cream House</td>\n",
       "      <td>5.0</td>\n",
       "      <td>114</td>\n",
       "    </tr>\n",
       "    <tr>\n",
       "      <th>3474</th>\n",
       "      <td>ice cream</td>\n",
       "      <td>The Ice Cream store</td>\n",
       "      <td>5.0</td>\n",
       "      <td>8</td>\n",
       "    </tr>\n",
       "    <tr>\n",
       "      <th>7831</th>\n",
       "      <td>ice cream</td>\n",
       "      <td>Pika Poka Gelato</td>\n",
       "      <td>5.0</td>\n",
       "      <td>77</td>\n",
       "    </tr>\n",
       "  </tbody>\n",
       "</table>\n",
       "</div>"
      ],
      "text/plain": [
       "       FoodType                   CompleteStoreName  AverageRating  Reviewers\n",
       "297   ice cream  Pang Zi Durian And Ice Cream House            5.0        114\n",
       "3474  ice cream                 The Ice Cream store            5.0          8\n",
       "7831  ice cream                    Pika Poka Gelato            5.0         77"
      ]
     },
     "metadata": {},
     "output_type": "display_data"
    },
    {
     "name": "stdout",
     "output_type": "stream",
     "text": [
      "\n",
      "🍽️ Halal Restaurants:\n"
     ]
    },
    {
     "data": {
      "text/html": [
       "<div>\n",
       "<style scoped>\n",
       "    .dataframe tbody tr th:only-of-type {\n",
       "        vertical-align: middle;\n",
       "    }\n",
       "\n",
       "    .dataframe tbody tr th {\n",
       "        vertical-align: top;\n",
       "    }\n",
       "\n",
       "    .dataframe thead th {\n",
       "        text-align: right;\n",
       "    }\n",
       "</style>\n",
       "<table border=\"1\" class=\"dataframe\">\n",
       "  <thead>\n",
       "    <tr style=\"text-align: right;\">\n",
       "      <th></th>\n",
       "      <th>FoodType</th>\n",
       "      <th>CompleteStoreName</th>\n",
       "      <th>AverageRating</th>\n",
       "      <th>Reviewers</th>\n",
       "    </tr>\n",
       "  </thead>\n",
       "  <tbody>\n",
       "    <tr>\n",
       "      <th>3228</th>\n",
       "      <td>halal</td>\n",
       "      <td>D</td>\n",
       "      <td>5.0</td>\n",
       "      <td>355</td>\n",
       "    </tr>\n",
       "  </tbody>\n",
       "</table>\n",
       "</div>"
      ],
      "text/plain": [
       "     FoodType CompleteStoreName  AverageRating  Reviewers\n",
       "3228    halal                 D            5.0        355"
      ]
     },
     "metadata": {},
     "output_type": "display_data"
    },
    {
     "name": "stdout",
     "output_type": "stream",
     "text": [
      "\n",
      "🍽️ Fish Soup Restaurants:\n"
     ]
    },
    {
     "data": {
      "text/html": [
       "<div>\n",
       "<style scoped>\n",
       "    .dataframe tbody tr th:only-of-type {\n",
       "        vertical-align: middle;\n",
       "    }\n",
       "\n",
       "    .dataframe tbody tr th {\n",
       "        vertical-align: top;\n",
       "    }\n",
       "\n",
       "    .dataframe thead th {\n",
       "        text-align: right;\n",
       "    }\n",
       "</style>\n",
       "<table border=\"1\" class=\"dataframe\">\n",
       "  <thead>\n",
       "    <tr style=\"text-align: right;\">\n",
       "      <th></th>\n",
       "      <th>FoodType</th>\n",
       "      <th>CompleteStoreName</th>\n",
       "      <th>AverageRating</th>\n",
       "      <th>Reviewers</th>\n",
       "    </tr>\n",
       "  </thead>\n",
       "  <tbody>\n",
       "    <tr>\n",
       "      <th>8249</th>\n",
       "      <td>fish soup</td>\n",
       "      <td>Hong Yun Fish Soup And Carrot Cake</td>\n",
       "      <td>5.0</td>\n",
       "      <td>102</td>\n",
       "    </tr>\n",
       "  </tbody>\n",
       "</table>\n",
       "</div>"
      ],
      "text/plain": [
       "       FoodType                   CompleteStoreName  AverageRating  Reviewers\n",
       "8249  fish soup  Hong Yun Fish Soup And Carrot Cake            5.0        102"
      ]
     },
     "metadata": {},
     "output_type": "display_data"
    }
   ],
   "source": [
    "# Filter original DataFrame for matching 5★ rows in Singapore\n",
    "filtered_stores = raw_df[\n",
    "    (raw_df['City'].str.lower() == 'singapore') &\n",
    "    (raw_df['FoodType'].isin(['halal', 'ice cream', 'fish soup'])) &\n",
    "    (raw_df['AverageRating'] == 5.0)\n",
    "][['FoodType', 'CompleteStoreName', 'AverageRating', 'Reviewers']]\n",
    "\n",
    "# Display\n",
    "for food_type in filtered_stores['FoodType'].unique():\n",
    "    print(f\"\\n🍽️ {food_type.title()} Restaurants:\")\n",
    "    display(filtered_stores[filtered_stores['FoodType'] == food_type])\n"
   ]
  },
  {
   "cell_type": "markdown",
   "id": "e1c1f05f",
   "metadata": {},
   "source": [
    "# Save the cleaned dataset"
   ]
  },
  {
   "cell_type": "code",
   "execution_count": 153,
   "id": "6845576d",
   "metadata": {},
   "outputs": [],
   "source": [
    "# Step 1: Remove rows where 'FoodType' is null\n",
    "cleaned_df = raw_df.dropna(subset=['FoodType'])\n",
    "\n",
    "# Step 2: Save the cleaned dataset to a new CSV file\n",
    "cleaned_df.to_csv('cleaned_foodpanda_dataset.csv', index=False)\n"
   ]
  },
  {
   "cell_type": "code",
   "execution_count": null,
   "id": "844dd745",
   "metadata": {},
   "outputs": [],
   "source": []
  }
 ],
 "metadata": {
  "kernelspec": {
   "display_name": "Python 3 (ipykernel)",
   "language": "python",
   "name": "python3"
  },
  "language_info": {
   "codemirror_mode": {
    "name": "ipython",
    "version": 3
   },
   "file_extension": ".py",
   "mimetype": "text/x-python",
   "name": "python",
   "nbconvert_exporter": "python",
   "pygments_lexer": "ipython3",
   "version": "3.7.1"
  }
 },
 "nbformat": 4,
 "nbformat_minor": 5
}
